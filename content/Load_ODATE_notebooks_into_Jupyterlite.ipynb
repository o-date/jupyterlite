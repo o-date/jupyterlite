{
  "nbformat": 4,
  "nbformat_minor": 0,
  "metadata": {
    "colab": {
      "provenance": []
    },
    "kernelspec": {
      "name": "python3",
      "display_name": "Python 3"
    },
    "language_info": {
      "name": "python"
    }
  },
  "cells": [
    {
      "cell_type": "markdown",
      "source": [
        "Run these blocks to load the notebook into the environment. Then, click on the notebook in the file tray to run the notebook."
      ],
      "metadata": {
        "id": "9V0ryzHuoZ8w"
      }
    },
    {
      "cell_type": "code",
      "execution_count": null,
      "metadata": {
        "id": "ytcrD7Q6oWDk"
      },
      "outputs": [],
      "source": [
        "!wget https://raw.githubusercontent.com/o-date/notebooks-archdata/refs/heads/master/archdata.ipynb"
      ]
    }
  ]
}